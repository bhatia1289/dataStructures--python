{
 "cells": [
  {
   "cell_type": "markdown",
   "id": "990dea90-29d6-4b57-aec1-7752560745bf",
   "metadata": {},
   "source": [
    "#ans- 1\n",
    "data structures are way to store data , to organise the data and manipulate the data. Data structures are important to organize the data and perform different operations on the data."
   ]
  },
  {
   "cell_type": "markdown",
   "id": "262d7093-061e-48ab-b8df-036802a14681",
   "metadata": {},
   "source": [
    "#ans- 2\n",
    "mutable datatype:\n",
    "the datatypes whose data can be manipulated or modified is known as mutable data type. ex - lists.\n",
    "\n",
    "immutable datatype: \n",
    "the datatypes whose data cannot be manipulated or modified is known as immutable data type. ex - strings."
   ]
  },
  {
   "cell_type": "markdown",
   "id": "9570d77f-b297-4aac-88e4-37f64705cbb5",
   "metadata": {},
   "source": [
    "#ans- 3\n",
    "The main differences between lists and tuples in Python are -\n",
    "lists are mutable , represented with \"[]\" brackets\n",
    "ex - li = [2,3,4,3.3]\n",
    "and \n",
    "tuples are immutable , represnted with \"()\" brackets\n",
    "ex - tu = (2, 4,4,2 1.2 )"
   ]
  },
  {
   "cell_type": "markdown",
   "id": "09270a54-3397-4f22-aa74-b20d310f39fc",
   "metadata": {},
   "source": [
    "#ans- 4\n",
    "dictionaries stores the data in the form of key: values pairs.\n",
    "ex - d = {\"name\" : \"abhi\", \"roll\" : 23}"
   ]
  },
  {
   "cell_type": "markdown",
   "id": "cbe14dd0-18a0-43b7-8f1b-18cf021a60cf",
   "metadata": {},
   "source": [
    "#ans- 5\n",
    "sets are used when we want to store unique elements. so when we need uniqueness and distint elements to store we uses sets over lists."
   ]
  },
  {
   "cell_type": "markdown",
   "id": "368c5421-ede9-49a8-b8b9-cb5b95e01604",
   "metadata": {},
   "source": [
    "#ans- 6\n",
    "string is a sequence of characters enclosed with ('') or (\"\"), these are used for text handling and manipulation.\n",
    "ex- s1 = \"Abhishek\"\n",
    "each charater of string is assigned an index starting from 0 .\n",
    "strings are immutable \n",
    "\n",
    "strings are different from lists as - lists are mutable and stores data in [] bracets. "
   ]
  },
  {
   "cell_type": "markdown",
   "id": "78679c23-78df-470a-9de7-55efb64a385a",
   "metadata": {},
   "source": [
    "#ans- 7\n",
    "tuples are immutable i.e., once created a tuple it's elements can not be modified , added or removed which ensures the data integrity and consistency."
   ]
  },
  {
   "cell_type": "raw",
   "id": "d85a632d-31ae-4bc9-b8b2-24b166ca952c",
   "metadata": {},
   "source": [
    "#ans- 8\n"
   ]
  },
  {
   "cell_type": "markdown",
   "id": "d32e1e91-2e75-456f-abcd-3c01d2461b57",
   "metadata": {},
   "source": [
    "#ans- 9\n",
    "yes, lists are heterogenous i.e., can store different datatypes \n",
    "ex- l1 = [2, 2.2, \"abhi\", 3+5j ]"
   ]
  },
  {
   "cell_type": "markdown",
   "id": "50f33532-0f66-476f-9806-dfb944dc8c29",
   "metadata": {},
   "source": [
    "#ans- 10\n",
    "strings are immutable in python because once a string is created, it cannot be changed."
   ]
  },
  {
   "cell_type": "markdown",
   "id": "2f97f870-da43-42f3-a1ad-3f627fddecf3",
   "metadata": {},
   "source": [
    "#ans- 11\n",
    "A key advantage of using dictionaries over lists in Python is their efficiency in searching and accessing elements. Dictionaries are implemented as hash tables, allowing for constant time complexity (O(1)) when retrieving a value using its key."
   ]
  },
  {
   "cell_type": "markdown",
   "id": "a918a55c-66fd-4f21-99ae-03c142d4cf74",
   "metadata": {},
   "source": [
    "#ans- 12\n",
    "when we require to maintain data consistency and integrity, "
   ]
  },
  {
   "cell_type": "markdown",
   "id": "80e01a32-e200-4531-a313-254a76202ec6",
   "metadata": {},
   "source": [
    "#ans- 13\n",
    "Sets in Python are designed to store unique elements. When you add duplicate values to a set, Python automatically removes the duplicates, ensuring that each element appears only once. Here's a concise explanation:\n",
    "\n",
    "Automatic Deduplication: If you try to add the same value multiple times, the set will only keep one instance of it.\n",
    "Unordered Collection: Sets are unordered, so the elements are not stored in any specific sequence."
   ]
  },
  {
   "cell_type": "markdown",
   "id": "42511e68-8367-4c86-a60f-f6d17911fabd",
   "metadata": {},
   "source": [
    "#ans- 14\n",
    "When used with a list, the in keyword checks if a value exists within the list. This operation involves iterating through the list sequentially and comparing each element with the target value.\n",
    "When used with a dictionary, the in keyword checks for the presence of a key, not a value. If you want to check for a value, you need to use the .values() method explicitly."
   ]
  },
  {
   "cell_type": "markdown",
   "id": "b305ff65-c8d3-4ade-aa54-ad4fbb04e23d",
   "metadata": {},
   "source": [
    "#ans- 15\n",
    "we cannot modify the elements of tuples because tuples are immutable."
   ]
  },
  {
   "cell_type": "markdown",
   "id": "b1608383-721b-4442-81b5-805d8c7926db",
   "metadata": {},
   "source": [
    "#ans- 16\n",
    "nested dictionaries are dictionaries that contains dictionaries inside dictionaries .\n",
    "ex-\n",
    "students = {\n",
    "    \"student1\": {\"name\": \"Alice\", \"age\": 20, \"grade\": \"A\"},\n",
    "    \"student2\": {\"name\": \"Bob\", \"age\": 22, \"grade\": \"B\"},\n",
    "    \"student3\": {\"name\": \"Charlie\", \"age\": 21, \"grade\": \"A\"},\n",
    "}\n",
    "use cases: \n",
    "1 - Organizing data like student records, product catalogs, or hierarchical structures.\n",
    "2 - Storing grouped or related data in a structured way."
   ]
  },
  {
   "cell_type": "markdown",
   "id": "7989a2d5-37ad-4313-82e0-5362c4fdb427",
   "metadata": {},
   "source": [
    "#ans- 17\n",
    "Dictionaries are implemented as hash tables, allowing for constant time complexity (O(1)) when retrieving a value using its key."
   ]
  },
  {
   "cell_type": "markdown",
   "id": "3157b269-1636-483c-8767-6659d0c49d89",
   "metadata": {},
   "source": [
    "#ans- 18\n",
    "For sequential access and storage efficiency, lists are preferable"
   ]
  },
  {
   "cell_type": "markdown",
   "id": "72d8ed06-94fe-4a0e-9fa0-3a97286532d9",
   "metadata": {},
   "source": [
    "#ans- 19\n",
    "dictionaries are considered unordered because there is no concept of indexes and elements are accessed with the help of keys, the order of storing is not consistent."
   ]
  },
  {
   "cell_type": "markdown",
   "id": "61f9b176-350a-4b27-ab92-35f779df2d2a",
   "metadata": {},
   "source": [
    "#ans- 20\n",
    "in lists data is retrieved with the help of indeces\n",
    "ex: l = [2,4,6,7,8]\n",
    "print(l[0])\n",
    "\n",
    "in dictionaries, the data is retrived with the help of keys \n",
    "ex: d = {\"name\" : \"abhi\", \"add\" : \"ghaziabad\"}\n",
    "print(d[name])"
   ]
  },
  {
   "cell_type": "markdown",
   "id": "231c067a-e78b-41d4-bc56-6cf0985d509c",
   "metadata": {},
   "source": [
    "***practical questions***"
   ]
  },
  {
   "cell_type": "code",
   "execution_count": 3,
   "id": "56ce3ce3-6b4f-4b85-bf05-4140d90e31de",
   "metadata": {},
   "outputs": [
    {
     "name": "stdout",
     "output_type": "stream",
     "text": [
      "Abhishek\n"
     ]
    }
   ],
   "source": [
    "#ans- 1\n",
    "str = \"Abhishek\"\n",
    "print(str)"
   ]
  },
  {
   "cell_type": "code",
   "execution_count": 4,
   "id": "04895a7c-d0c1-4924-87c1-2218d252ca52",
   "metadata": {},
   "outputs": [
    {
     "name": "stdout",
     "output_type": "stream",
     "text": [
      "11\n"
     ]
    }
   ],
   "source": [
    "#ans- 2\n",
    "print(len(\"Hello World\"))"
   ]
  },
  {
   "cell_type": "code",
   "execution_count": 5,
   "id": "948913d5-f902-4b0d-88b5-3024f91f2589",
   "metadata": {},
   "outputs": [
    {
     "name": "stdout",
     "output_type": "stream",
     "text": [
      "Pyt\n"
     ]
    }
   ],
   "source": [
    "#ans- 3\n",
    "str = \"Python Programming\"\n",
    "print(str[0:3])"
   ]
  },
  {
   "cell_type": "code",
   "execution_count": 7,
   "id": "1410a227-9d2c-4378-81ce-6e59dabe0df6",
   "metadata": {},
   "outputs": [
    {
     "name": "stdout",
     "output_type": "stream",
     "text": [
      "HELLO\n"
     ]
    }
   ],
   "source": [
    "#ans- 4\n",
    "str =\"hello\"\n",
    "print(str.upper())"
   ]
  },
  {
   "cell_type": "code",
   "execution_count": 9,
   "id": "279ac68b-85a3-4bc3-acaf-064b174592f2",
   "metadata": {},
   "outputs": [
    {
     "name": "stdout",
     "output_type": "stream",
     "text": [
      "I like orange\n"
     ]
    }
   ],
   "source": [
    "#ans- 5\n",
    "str = \"I like apple\"\n",
    "new_str = str.replace(\"apple\", \"orange\")\n",
    "print(new_str)"
   ]
  },
  {
   "cell_type": "code",
   "execution_count": 20,
   "id": "a540a671-9a2f-4792-bbb2-eba98f070008",
   "metadata": {},
   "outputs": [
    {
     "name": "stdout",
     "output_type": "stream",
     "text": [
      "[1, 2, 3, 4, 5]\n"
     ]
    }
   ],
   "source": [
    "#ans- 6\n",
    "l1 = [1,2,3,4,5]\n",
    "print(l1)"
   ]
  },
  {
   "cell_type": "code",
   "execution_count": 21,
   "id": "c6fd3a98-abf2-404a-98c8-89180010c8eb",
   "metadata": {},
   "outputs": [
    {
     "name": "stdout",
     "output_type": "stream",
     "text": [
      "[1, 2, 3, 4, 5, 10]\n"
     ]
    }
   ],
   "source": [
    "#ans- 7\n",
    "l1.append(10)\n",
    "print(l1)"
   ]
  },
  {
   "cell_type": "code",
   "execution_count": 22,
   "id": "dc05b7b7-68ae-4b94-8e49-18dc72661ac8",
   "metadata": {},
   "outputs": [
    {
     "data": {
      "text/plain": [
       "3"
      ]
     },
     "execution_count": 22,
     "metadata": {},
     "output_type": "execute_result"
    }
   ],
   "source": [
    "#ans-8\n",
    "l1.pop(2)"
   ]
  },
  {
   "cell_type": "code",
   "execution_count": 23,
   "id": "3316280b-ad88-4fe1-8ae8-4d0c42ed5c17",
   "metadata": {},
   "outputs": [
    {
     "name": "stdout",
     "output_type": "stream",
     "text": [
      "b\n"
     ]
    }
   ],
   "source": [
    "#ans- 9\n",
    "l2 = ['a', 'b', 'c', 'd']\n",
    "print(l2[1])"
   ]
  },
  {
   "cell_type": "code",
   "execution_count": 24,
   "id": "b5116a8a-ebc6-4d32-80b6-b21ccc450006",
   "metadata": {},
   "outputs": [
    {
     "name": "stdout",
     "output_type": "stream",
     "text": [
      "[50, 40, 30, 20, 10]\n"
     ]
    }
   ],
   "source": [
    "#ans- 10\n",
    "l3 = [10, 20, 30, 40, 50]\n",
    "print(l3[::-1])"
   ]
  },
  {
   "cell_type": "code",
   "execution_count": 25,
   "id": "3546da9d-3aba-4bb7-bd2d-04df44f2b52b",
   "metadata": {},
   "outputs": [
    {
     "name": "stdout",
     "output_type": "stream",
     "text": [
      "(100, 200, 300)\n"
     ]
    }
   ],
   "source": [
    "#ans- 11\n",
    "t1 = (100, 200, 300)\n",
    "print(t1)"
   ]
  },
  {
   "cell_type": "code",
   "execution_count": 32,
   "id": "72c90b63-e3ff-418d-bada-6765244dfeeb",
   "metadata": {},
   "outputs": [
    {
     "name": "stdout",
     "output_type": "stream",
     "text": [
      "('green', 'blue', 'yellow')\n"
     ]
    }
   ],
   "source": [
    "#ans- 12\n",
    "t2 = ('red', 'green', 'blue', 'yellow')\n",
    "print(t2[1:])"
   ]
  },
  {
   "cell_type": "code",
   "execution_count": 35,
   "id": "d5f3f78d-71ba-4111-b71a-69e74d94cfd1",
   "metadata": {},
   "outputs": [
    {
     "name": "stdout",
     "output_type": "stream",
     "text": [
      "5\n"
     ]
    }
   ],
   "source": [
    "#ans-13\n",
    "t3 = (10, 20, 5, 15)\n",
    "print(min(t3))"
   ]
  },
  {
   "cell_type": "code",
   "execution_count": 36,
   "id": "25c6fb94-696a-40d0-a7c4-fcd82bd10807",
   "metadata": {},
   "outputs": [
    {
     "name": "stdout",
     "output_type": "stream",
     "text": [
      "1\n"
     ]
    }
   ],
   "source": [
    "#ans- 14\n",
    "t4 = ('dog', 'cat', 'rabbit')\n",
    "idx = t4.index(\"cat\")\n",
    "print(idx)"
   ]
  },
  {
   "cell_type": "code",
   "execution_count": 39,
   "id": "f2bcf32f-7df2-47a8-90e4-a399d961a0df",
   "metadata": {},
   "outputs": [
    {
     "name": "stdout",
     "output_type": "stream",
     "text": [
      "not present\n"
     ]
    }
   ],
   "source": [
    "#ans- 15\n",
    "t5 = (\"mango\", \"apple\", \"banana\")\n",
    "if \"kiwi\" in t5:\n",
    "    print(\"present\")\n",
    "else:\n",
    "     print(\"not present\")"
   ]
  },
  {
   "cell_type": "code",
   "execution_count": 44,
   "id": "1c2ae59a-7abb-417d-a1a7-1dcf895438ae",
   "metadata": {},
   "outputs": [
    {
     "name": "stdout",
     "output_type": "stream",
     "text": [
      "{'b', 'a', 'c'}\n"
     ]
    }
   ],
   "source": [
    "#ans- 16\n",
    "s1 = {'a','b','c'}\n",
    "print(s1)"
   ]
  },
  {
   "cell_type": "code",
   "execution_count": 46,
   "id": "9b9ab823-511d-4b43-b98d-6766a4a6c9c5",
   "metadata": {},
   "outputs": [
    {
     "name": "stdout",
     "output_type": "stream",
     "text": [
      "set()\n"
     ]
    }
   ],
   "source": [
    "#ans- 17\n",
    "s2= {1, 2, 3, 4, 5}\n",
    "s2.clear()\n",
    "print(s2)"
   ]
  },
  {
   "cell_type": "code",
   "execution_count": 49,
   "id": "0ab89d39-5966-4112-b159-2470d3d2952d",
   "metadata": {},
   "outputs": [
    {
     "name": "stdout",
     "output_type": "stream",
     "text": [
      "{1, 2, 3}\n"
     ]
    }
   ],
   "source": [
    "#ans- 18\n",
    "s3 ={1, 2, 3, 4}\n",
    "s3.remove(4)\n",
    "print(s3)"
   ]
  },
  {
   "cell_type": "code",
   "execution_count": 51,
   "id": "8306c22e-90a5-4c72-a7cf-40e907bf38f4",
   "metadata": {},
   "outputs": [
    {
     "name": "stdout",
     "output_type": "stream",
     "text": [
      "{1, 2, 3, 4, 5}\n"
     ]
    }
   ],
   "source": [
    "#ans- 19\n",
    "set1 = {1, 2, 3} \n",
    "set2 = {3, 4, 5}\n",
    "set3 = set1 | set2\n",
    "print(set3)"
   ]
  },
  {
   "cell_type": "code",
   "execution_count": 52,
   "id": "b38df1d8-df62-4f62-908e-02841b55f830",
   "metadata": {},
   "outputs": [
    {
     "name": "stdout",
     "output_type": "stream",
     "text": [
      "{2, 3}\n"
     ]
    }
   ],
   "source": [
    "#ans- 20\n",
    "set4 = {1, 2, 3}\n",
    "set5 = {2, 3, 4}\n",
    "print(set4 & set5)"
   ]
  },
  {
   "cell_type": "code",
   "execution_count": 53,
   "id": "85367b39-b2fa-4f43-a229-7d99ae654736",
   "metadata": {},
   "outputs": [
    {
     "name": "stdout",
     "output_type": "stream",
     "text": [
      "{'name': 'Abhishek', 'age': 20, 'city': 'ghaziabad'}\n"
     ]
    }
   ],
   "source": [
    "#ans - 21\n",
    "my_dic = {\"name\": \"Abhishek\", \"age\": 20, \"city\": \"ghaziabad\"}\n",
    "print(my_dic)"
   ]
  },
  {
   "cell_type": "code",
   "execution_count": 59,
   "id": "9cc38ad2-7176-448e-953f-0cbc524854a5",
   "metadata": {},
   "outputs": [
    {
     "name": "stdout",
     "output_type": "stream",
     "text": [
      "{'name': 'John', 'age': 25, 'country': 'USA'}\n"
     ]
    }
   ],
   "source": [
    "#ans- 22\n",
    "dic1 = {'name': 'John', 'age': 25}\n",
    "dic1[\"country\"] = \"USA\"\n",
    "print(dic1)"
   ]
  },
  {
   "cell_type": "code",
   "execution_count": 60,
   "id": "4b1d6b72-a866-4a38-8cfd-a4cc058da82e",
   "metadata": {},
   "outputs": [
    {
     "name": "stdout",
     "output_type": "stream",
     "text": [
      "Alice\n"
     ]
    }
   ],
   "source": [
    "#ans- 23\n",
    "dic2 = {'name': 'Alice', 'age': 30}\n",
    "print(dic2[\"name\"])"
   ]
  },
  {
   "cell_type": "code",
   "execution_count": 62,
   "id": "62eed6b6-6768-4bf1-ab47-f23b661bcab8",
   "metadata": {},
   "outputs": [
    {
     "name": "stdout",
     "output_type": "stream",
     "text": [
      "{'name': 'Bob', 'city': 'New York'}\n"
     ]
    }
   ],
   "source": [
    "#ans- 24\n",
    "dic3 =  {'name': 'Bob', 'age': 22, 'city': 'New York'}\n",
    "del dic3[\"age\"]\n",
    "print(dic3)"
   ]
  },
  {
   "cell_type": "code",
   "execution_count": 63,
   "id": "7fa304cd-c5b7-4fba-89cf-d85c3c34778a",
   "metadata": {},
   "outputs": [
    {
     "data": {
      "text/plain": [
       "True"
      ]
     },
     "execution_count": 63,
     "metadata": {},
     "output_type": "execute_result"
    }
   ],
   "source": [
    "#ans- 25\n",
    "dic4 =  {'name': 'Alice', 'city': 'Paris'}\n",
    "\"city\" in dic4"
   ]
  },
  {
   "cell_type": "code",
   "execution_count": 66,
   "id": "c5172934-7d8c-44f9-bf65-3c3a2d8e9fc2",
   "metadata": {},
   "outputs": [
    {
     "name": "stdout",
     "output_type": "stream",
     "text": [
      "[2, 3, 2.2, True]\n",
      "(1, 2, True, 4.5)\n",
      "{'name': 'abhi', 'city': 'delhi'}\n"
     ]
    }
   ],
   "source": [
    "#ans- 26\n",
    "#list\n",
    "lis = [2, 3, 2.2, True]\n",
    "tup = (1,2 ,True, 4.5)\n",
    "dicti = {\"name\":\"abhi\", \"city\": \"delhi\"}\n",
    "print(lis)\n",
    "print(tup)\n",
    "print(dicti)"
   ]
  },
  {
   "cell_type": "code",
   "execution_count": 69,
   "id": "40d86a6b-8125-4731-b7ae-9329b025bc85",
   "metadata": {},
   "outputs": [
    {
     "name": "stdout",
     "output_type": "stream",
     "text": [
      "[1, 4, 19, 30, 100]\n"
     ]
    }
   ],
   "source": [
    "#ans- 27\n",
    "lis1 = [4, 30, 100, 19, 1]\n",
    "print(sorted(lis1))"
   ]
  },
  {
   "cell_type": "code",
   "execution_count": 70,
   "id": "a87b4a04-baa2-4224-8aef-756af393bb65",
   "metadata": {},
   "outputs": [
    {
     "name": "stdout",
     "output_type": "stream",
     "text": [
      "pujju\n"
     ]
    }
   ],
   "source": [
    "#ans- 28'\n",
    "lis2 = [\"abhi\", \"vishu\", \"babbu\", \"pujju\"]\n",
    "print(lis2[3])"
   ]
  },
  {
   "cell_type": "code",
   "execution_count": 73,
   "id": "d7789e51-1322-4eaf-9188-5d85b1cafead",
   "metadata": {},
   "outputs": [
    {
     "name": "stdout",
     "output_type": "stream",
     "text": [
      "{'name': 'Alice', 'city': 'Paris', 'age': 20, 'phn. no.': '9873356171'}\n"
     ]
    }
   ],
   "source": [
    "#ans- 29\n",
    "dicti1 = {'name': 'Alice', 'city': 'Paris'}\n",
    "dicti2 = {'age': 20, 'phn. no.':'9873356171'}\n",
    "print(dicti1 | dicti2)"
   ]
  },
  {
   "cell_type": "code",
   "execution_count": 76,
   "id": "43da87f2-69fb-4697-8705-2e82d152d1ff",
   "metadata": {},
   "outputs": [
    {
     "name": "stdout",
     "output_type": "stream",
     "text": [
      "{'abhi', 'vishu', 'babbu', 'pujju'}\n"
     ]
    }
   ],
   "source": [
    "#ans- 30\n",
    "lis3 = [\"abhi\", \"vishu\", \"babbu\", \"pujju\"]\n",
    "my_set = set(lis3)\n",
    "print(my_set)"
   ]
  }
 ],
 "metadata": {
  "kernelspec": {
   "display_name": "Python 3 (ipykernel)",
   "language": "python",
   "name": "python3"
  },
  "language_info": {
   "codemirror_mode": {
    "name": "ipython",
    "version": 3
   },
   "file_extension": ".py",
   "mimetype": "text/x-python",
   "name": "python",
   "nbconvert_exporter": "python",
   "pygments_lexer": "ipython3",
   "version": "3.12.9"
  }
 },
 "nbformat": 4,
 "nbformat_minor": 5
}
